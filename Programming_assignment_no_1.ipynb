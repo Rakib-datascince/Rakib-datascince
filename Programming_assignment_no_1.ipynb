{
  "nbformat": 4,
  "nbformat_minor": 0,
  "metadata": {
    "colab": {
      "provenance": [],
      "authorship_tag": "ABX9TyN+lsiRcBG3r+1O0lTVae7N",
      "include_colab_link": true
    },
    "kernelspec": {
      "name": "python3",
      "display_name": "Python 3"
    },
    "language_info": {
      "name": "python"
    }
  },
  "cells": [
    {
      "cell_type": "markdown",
      "metadata": {
        "id": "view-in-github",
        "colab_type": "text"
      },
      "source": [
        "<a href=\"https://colab.research.google.com/github/Rakib-datascince/Rakib-datascince/blob/main/Programming_assignment_no_1.ipynb\" target=\"_parent\"><img src=\"https://colab.research.google.com/assets/colab-badge.svg\" alt=\"Open In Colab\"/></a>"
      ]
    },
    {
      "cell_type": "code",
      "execution_count": 1,
      "metadata": {
        "id": "gty7Ss38c0ZC"
      },
      "outputs": [],
      "source": [
        "#1.Write a Python program to print 'Hello Python' ?"
      ]
    },
    {
      "cell_type": "code",
      "source": [
        "print('Hello Python')"
      ],
      "metadata": {
        "colab": {
          "base_uri": "https://localhost:8080/"
        },
        "id": "zvIb9DRRdE2u",
        "outputId": "6268948e-8d81-43b7-f593-24d8f64ba868"
      },
      "execution_count": 2,
      "outputs": [
        {
          "output_type": "stream",
          "name": "stdout",
          "text": [
            "Hello Python\n"
          ]
        }
      ]
    },
    {
      "cell_type": "code",
      "source": [
        "#2.Write a Python program to do arithmetic operations addition and division ?"
      ],
      "metadata": {
        "id": "ux82G_V0dHWj"
      },
      "execution_count": 3,
      "outputs": []
    },
    {
      "cell_type": "code",
      "source": [
        "import operator\n",
        "\n",
        "ops = { \"+\": operator.add, \"-\": operator.sub, \"*\":operator.mul, \"/\":operator.truediv } \n",
        "\n",
        "print('Select a Arithmetic Operation: \\\n",
        "        \\n1.Addition(+)\\\n",
        "        \\n2.Division(-)\\\n",
        "        \\n2.Multiplication(*)\\\n",
        "        \\n4.Division(/)\\\n",
        "        \\n3.Stop(0)\\n')\n",
        "   \n",
        "\n",
        "while True:\n",
        "    operator = input('Enter a arithmetic operation -> ')\n",
        "    if operator == '0':\n",
        "        print(\"Program Stopped successfully\")\n",
        "        break\n",
        "    elif operator not in ['+','-','*','/']:\n",
        "        print(\"Please enter a valid operator\")\n",
        "    else:\n",
        "        num_1 = int(input('\\nEnter 1st Number: '))\n",
        "        num_2 = int(input('Enter 2nd Number: '))\n",
        "        print('{}{}{}={}\\n'.format(num_1, operator, num_2, ops[operator](num_1,num_2)))"
      ],
      "metadata": {
        "colab": {
          "base_uri": "https://localhost:8080/"
        },
        "id": "o7_UACh2dKjj",
        "outputId": "5f3a542e-31ef-44a0-d16a-28bc89b1a67a"
      },
      "execution_count": 4,
      "outputs": [
        {
          "output_type": "stream",
          "name": "stdout",
          "text": [
            "Select a Arithmetic Operation:         \n",
            "1.Addition(+)        \n",
            "2.Division(-)        \n",
            "2.Multiplication(*)        \n",
            "4.Division(/)        \n",
            "3.Stop(0)\n",
            "\n",
            "Enter a arithmetic operation -> +\n",
            "\n",
            "Enter 1st Number: 12\n",
            "Enter 2nd Number: 12\n",
            "12+12=24\n",
            "\n",
            "Enter a arithmetic operation -> 0\n",
            "Program Stopped successfully\n"
          ]
        }
      ]
    },
    {
      "cell_type": "code",
      "source": [
        "#3.Write a Python program to find the area of a triangle ?"
      ],
      "metadata": {
        "id": "eZKI4jDJdM1E"
      },
      "execution_count": 5,
      "outputs": []
    },
    {
      "cell_type": "code",
      "source": [
        "height = int(input('Enter height of triangle: '))\n",
        "base = int(input('Enter base of triangle: '))\n",
        "\n",
        "def areaOfTriangle(height, base):\n",
        "    print('\\nArea of triangle ->', 0.5*height*base)\n",
        "\n",
        "areaOfTriangle(height,base)"
      ],
      "metadata": {
        "colab": {
          "base_uri": "https://localhost:8080/"
        },
        "id": "-nFdOAWOdOs7",
        "outputId": "5d1d4977-9d5d-4d62-fe43-9efcc586f805"
      },
      "execution_count": 6,
      "outputs": [
        {
          "output_type": "stream",
          "name": "stdout",
          "text": [
            "Enter height of triangle: 12\n",
            "Enter base of triangle: 1\n",
            "\n",
            "Area of triangle -> 6.0\n"
          ]
        }
      ]
    },
    {
      "cell_type": "code",
      "source": [
        "#4.Write a Python program to swap two variables ?"
      ],
      "metadata": {
        "id": "mz5s5xZtdQmD"
      },
      "execution_count": 7,
      "outputs": []
    },
    {
      "cell_type": "code",
      "source": [
        "num_1 = int(input(\"Enter First Number: \"))\n",
        "num_2 = int(input(\"Enter Second Number: \"))\n",
        "\n",
        "def swapNumbers(a,b):\n",
        "    temp = a\n",
        "    a = b\n",
        "    b = temp\n",
        "    return a,b\n",
        "\n",
        "print('Before swapping -> ',num_1, num_2)\n",
        "num_1, num_2 = swapNumbers(num_1, num_2)\n",
        "print('After swapping -> ',num_1,num_2)"
      ],
      "metadata": {
        "colab": {
          "base_uri": "https://localhost:8080/"
        },
        "id": "Snt3AWYVdShE",
        "outputId": "10f4364b-ea30-4d7d-9474-f1ff663051c4"
      },
      "execution_count": 8,
      "outputs": [
        {
          "output_type": "stream",
          "name": "stdout",
          "text": [
            "Enter First Number: 12\n",
            "Enter Second Number: 32\n",
            "Before swapping ->  12 32\n",
            "After swapping ->  32 12\n"
          ]
        }
      ]
    },
    {
      "cell_type": "code",
      "source": [
        "#5.Write a Python program to generate a random number ?"
      ],
      "metadata": {
        "id": "SQKe7_JfdUN7"
      },
      "execution_count": 9,
      "outputs": []
    },
    {
      "cell_type": "code",
      "source": [
        "from random import randint\n",
        "\n",
        "def generateRandomNumber(start=0, end=100000):\n",
        "    print('Random number -> ',randint(start,end))\n",
        "\n",
        "# Generating random numbers without arguments    \n",
        "generateRandomNumber()\n",
        "\n",
        "# Generating random numbers with arguments    \n",
        "generateRandomNumber(0,100)"
      ],
      "metadata": {
        "colab": {
          "base_uri": "https://localhost:8080/"
        },
        "id": "Wp-p3MvSdWIj",
        "outputId": "3e481e3e-7934-47cb-88ad-3a6363c4afcc"
      },
      "execution_count": 10,
      "outputs": [
        {
          "output_type": "stream",
          "name": "stdout",
          "text": [
            "Random number ->  73867\n",
            "Random number ->  13\n"
          ]
        }
      ]
    },
    {
      "cell_type": "code",
      "source": [],
      "metadata": {
        "id": "a2OV8EswdaTs"
      },
      "execution_count": null,
      "outputs": []
    }
  ]
}