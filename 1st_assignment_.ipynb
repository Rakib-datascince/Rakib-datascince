{
  "nbformat": 4,
  "nbformat_minor": 0,
  "metadata": {
    "colab": {
      "provenance": [],
      "collapsed_sections": [],
      "authorship_tag": "ABX9TyObdOukf8HYiv4Vr/vcs6hX",
      "include_colab_link": true
    },
    "kernelspec": {
      "name": "python3",
      "display_name": "Python 3"
    },
    "language_info": {
      "name": "python"
    }
  },
  "cells": [
    {
      "cell_type": "markdown",
      "metadata": {
        "id": "view-in-github",
        "colab_type": "text"
      },
      "source": [
        "<a href=\"https://colab.research.google.com/github/Rakib-datascince/Rakib-datascince/blob/main/1st_assignment_.ipynb\" target=\"_parent\"><img src=\"https://colab.research.google.com/assets/colab-badge.svg\" alt=\"Open In Colab\"/></a>"
      ]
    },
    {
      "cell_type": "code",
      "source": [
        "\"\"\"Assignment no. 1\n",
        "\n",
        "\n",
        " Ques no. 1 In the below elements which of them are values or an expression ? eg:- values can be integer or string and expression will be mathematical operators. *,'hello',-87.8, -, /,+,6\n",
        "\n",
        "Ans:- There are a total 4 expression and 3 value, They are: Value:-'hello' , -87.8 , 6 Expression:- * , - , / , +\n",
        "\n",
        "Ques no. 2 What is the difference between string and variable ? \n",
        "Ans :- A variable is used to store the imformation , and string is a type of information you would store in a variable. A string is group of characters or a single characters \n",
        "       usually enclosed in double quotes \" \" and a single squotes ' '\n",
        "\n",
        "Ques no. 3 Describe three types of datatypes?\n",
        "Ans :- Three fundamental Data types in python are int, float, and complex. (1) int data type : we can use int data type to represent whole numbers (integral values) \n",
        "       example: 4,5,6 (2) float data type : we can use float datatype to represent floating point values (decimal values) example: 3.44,3.22,6.44 (3) complex data \n",
        "       type: complex number is representd by complex class. It is specified as (real) + (imaginary part) example: 10+1.5j\"\"\""
      ],
      "metadata": {
        "id": "XCHtmWgAwNa4"
      },
      "execution_count": null,
      "outputs": []
    },
    {
      "cell_type": "code",
      "source": [
        "#example of int  datatype \n",
        "int_num = 345\n",
        "print(int_num, type(int_num))\n",
        "#example of float datatype\n",
        "flo_num = 1.44\n",
        "print(flo_num,type(flo_num))\n",
        "#example of complex num\n",
        "com_num = 12+1.5j\n",
        "print(com_num, type(com_num))"
      ],
      "metadata": {
        "id": "yFz8fBKdAZAS"
      },
      "execution_count": null,
      "outputs": []
    },
    {
      "cell_type": "code",
      "source": [
        "\"\"\" \n",
        "Ques no. 4 What is an expression made up of ? What do all expression do?\n",
        "Ans:- An expression is a combination of values , variable , operator, and calls to functions. Expression need to be evaluated. If we ask python to print an expression\n",
        "      the interpreter evaluates the expression and displays the result.\n",
        "\n",
        "Ques no. 5 This assignment statements , like spam = 10. What is the difference between an expression and a statement ?\n",
        "Ans:- An expression is a combination of values , variables, and operators. Whe we type an expression at the prompt , the interpreter evaluates it, which means that it \n",
        "      finds the value of the expression \n",
        "\n",
        "      eg: 3*5+34-55 is an example of statement \n",
        "\n",
        "      A statement is a unit of code that has an effect, like creating a variable or displaying a value. When we type a statement , the interpreter executes it which means \n",
        "      that it does whatever the statement says . In general, statement don't have values .\n",
        "\n",
        "      eg:- variable declaration and assingment are statements becauese they do not return a value\n",
        "\n",
        "\n",
        "Ques no. 6 After running the following code, what does the varible bacon contain?\n",
        "      bacon = 22 \n",
        "       bacon = +\n",
        "\n",
        "Ans:- The variable bacon is set to 22 . The expression bacon + 1 does not reassing the value in bacon ( that would the case if the expression   is like bacon = \n",
        "        bacon + 1 instead of bacon + 1)    \n",
        "\n",
        "                            \"\"\""
      ],
      "metadata": {
        "colab": {
          "base_uri": "https://localhost:8080/",
          "height": 36
        },
        "id": "lECQ7LEkH-MI",
        "outputId": "4c195dd6-2e8a-4be4-96b2-ea6164c886a5"
      },
      "execution_count": null,
      "outputs": [
        {
          "output_type": "execute_result",
          "data": {
            "text/plain": [
              "' \\nQues no. 4 What is an expression made up of ? What do all expression do?\\nAns:-                             \\n                            '"
            ],
            "application/vnd.google.colaboratory.intrinsic+json": {
              "type": "string"
            }
          },
          "metadata": {},
          "execution_count": 4
        }
      ]
    },
    {
      "cell_type": "code",
      "source": [
        "#Example Case 1\n",
        "bacon = 22 \n",
        "bacon+1\n",
        "print(bacon)"
      ],
      "metadata": {
        "colab": {
          "base_uri": "https://localhost:8080/"
        },
        "id": "o74NJCT4Inqa",
        "outputId": "07b0b775-cc54-452d-b8b9-6f8ff90dd5f3"
      },
      "execution_count": null,
      "outputs": [
        {
          "output_type": "stream",
          "name": "stdout",
          "text": [
            "22\n"
          ]
        }
      ]
    },
    {
      "cell_type": "code",
      "source": [
        "#Example case 2 \n",
        "bacon = 22 \n",
        "bacon = bacon + 1\n",
        "print(bacon)"
      ],
      "metadata": {
        "colab": {
          "base_uri": "https://localhost:8080/"
        },
        "id": "hDtYIv9LM3ih",
        "outputId": "a433772c-93e2-426a-97fd-b8343a427d04"
      },
      "execution_count": null,
      "outputs": [
        {
          "output_type": "stream",
          "name": "stdout",
          "text": [
            "23\n"
          ]
        }
      ]
    },
    {
      "cell_type": "code",
      "source": [
        "\"\"\"\n",
        "Ques no. 7 What should the values of the following two terms be ?\n",
        "     'spam' + 'spamspam'\n",
        "     'spam'*3\n",
        "     \n",
        "Ans:- Both expression evaluate to the string 'spamspam' Where as the first expression follows String Concatenation and the second expression follows String Multiplication\n",
        "                              \"\"\""
      ],
      "metadata": {
        "id": "JqNgbINTM8C5"
      },
      "execution_count": null,
      "outputs": []
    },
    {
      "cell_type": "code",
      "source": [
        "print('spam' + 'spamspam')#string concatenation \n",
        "print ('spam'*3)#string multiplication "
      ],
      "metadata": {
        "colab": {
          "base_uri": "https://localhost:8080/"
        },
        "id": "niS_lUoNOOZS",
        "outputId": "c862a0f2-30a7-443a-e55e-b7803f71e6ea"
      },
      "execution_count": null,
      "outputs": [
        {
          "output_type": "stream",
          "name": "stdout",
          "text": [
            "spamspamspam\n",
            "spamspamspam\n"
          ]
        }
      ]
    },
    {
      "cell_type": "code",
      "source": [
        "\"\"\"\n",
        "Ques no. 8 Why is eggs a valid variable name while 100 is invalid ?\n",
        "Ans:- as per python , Variable names cannot begin with a number . The python rules for naming a variable are:-\n",
        "1. Variable name must start with a letter or the underscore character. \n",
        "2. Variable name cannot start with number .\n",
        "3. Varible name can only contain alpha-numerica characters and underscores (A-z, 0-9, and _)\n",
        "4. Variable names are case sensitive .\n",
        "5. The reserved words cannot be use naming the variable. \n",
        "\n",
        "\n",
        "Ques no. 9 What three functions can be used to get the integer , floating-point number, or string version of a value?\n",
        "Ans:- The int(), float(),and str(), fuctions will evaluate to the integer, floating-number , string version of the value passed to them .\n",
        "\n",
        "\n",
        "Ques no. 10 Why does this expression cause an error? how can you fix it? \n",
        "         'I have eaten ' + 99 + 'burritos '\n",
        "Ans:- This cause of error is 99. because 99 is not a string.99 must be typecasted to string to fix this error . The correct way is:\n",
        "      'I have eaten ' + str(99) + 'burritos'\n",
        "\"\"\""
      ],
      "metadata": {
        "id": "y43JXvM7OoiB"
      },
      "execution_count": null,
      "outputs": []
    },
    {
      "cell_type": "code",
      "source": [
        "print('I have eaten '+ str(   99  )  + '   burritos')"
      ],
      "metadata": {
        "colab": {
          "base_uri": "https://localhost:8080/"
        },
        "id": "C4zpAajVO6b3",
        "outputId": "f222f2b3-98d2-4144-da10-8aef541a7e79"
      },
      "execution_count": null,
      "outputs": [
        {
          "output_type": "stream",
          "name": "stdout",
          "text": [
            "I have eaten 99   burritos\n"
          ]
        }
      ]
    },
    {
      "cell_type": "code",
      "source": [],
      "metadata": {
        "id": "PJjvgD7CWfTz"
      },
      "execution_count": null,
      "outputs": []
    }
  ]
}