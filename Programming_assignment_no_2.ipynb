{
  "nbformat": 4,
  "nbformat_minor": 0,
  "metadata": {
    "colab": {
      "provenance": [],
      "authorship_tag": "ABX9TyNgc4gZYQ3NI+6sNDGjUM1G",
      "include_colab_link": true
    },
    "kernelspec": {
      "name": "python3",
      "display_name": "Python 3"
    },
    "language_info": {
      "name": "python"
    }
  },
  "cells": [
    {
      "cell_type": "markdown",
      "metadata": {
        "id": "view-in-github",
        "colab_type": "text"
      },
      "source": [
        "<a href=\"https://colab.research.google.com/github/Rakib-datascince/Rakib-datascince/blob/main/Programming_assignment_no_2.ipynb\" target=\"_parent\"><img src=\"https://colab.research.google.com/assets/colab-badge.svg\" alt=\"Open In Colab\"/></a>"
      ]
    },
    {
      "cell_type": "code",
      "execution_count": 1,
      "metadata": {
        "id": "4S6UOpHEkLBO"
      },
      "outputs": [],
      "source": [
        "#1.Write a Python program to convert Kilometers to Miles ?"
      ]
    },
    {
      "cell_type": "code",
      "source": [
        "def kmToMiles():\n",
        "    kiloMeters = float(input(\"Enter no of kilometers : \"))\n",
        "    print(\"{} km is Equal to {} miles\".format(kiloMeters,kiloMeters*0.621))\n",
        "\n",
        "kmToMiles()"
      ],
      "metadata": {
        "colab": {
          "base_uri": "https://localhost:8080/"
        },
        "id": "5EgMkkDJkYhU",
        "outputId": "25c55c0b-08b0-4e2d-93f5-f9fcec909ba3"
      },
      "execution_count": 3,
      "outputs": [
        {
          "output_type": "stream",
          "name": "stdout",
          "text": [
            "Enter no of kilometers : 12\n",
            "12.0 km is Equal to 7.452 miles\n"
          ]
        }
      ]
    },
    {
      "cell_type": "code",
      "source": [
        "#2.Write a Python program to convert Celsius to Farenheit ?"
      ],
      "metadata": {
        "id": "YYP_0TWakbgr"
      },
      "execution_count": null,
      "outputs": []
    },
    {
      "cell_type": "code",
      "source": [
        "def celToFarh():\n",
        "    celsius = int(input(\"Enter temperature in celsius : \"))\n",
        "    Farenheit = (celsius*(9/5))+32\n",
        "    print(\"{}° Celsius is Equal to {}° Farenheit\".format(celsius,Farenheit))\n",
        "    \n",
        "celToFarh()"
      ],
      "metadata": {
        "colab": {
          "base_uri": "https://localhost:8080/"
        },
        "id": "sVaFa_mbkd5M",
        "outputId": "b5d2c7a7-8111-4070-89c9-5f4b84f87c34"
      },
      "execution_count": 4,
      "outputs": [
        {
          "output_type": "stream",
          "name": "stdout",
          "text": [
            "Enter temperature in celsius : 14\n",
            "14° Celsius is Equal to 57.2° Farenheit\n"
          ]
        }
      ]
    },
    {
      "cell_type": "code",
      "source": [
        "#3.Write a Python program to display calender ?"
      ],
      "metadata": {
        "id": "c6rUYsQxkfjU"
      },
      "execution_count": null,
      "outputs": []
    },
    {
      "cell_type": "code",
      "source": [
        "import calendar\n",
        "\n",
        "def showCalender():\n",
        "    year = int(input(\"Enter calender year: \"))\n",
        "    print(calendar.calendar(year))\n",
        "    \n",
        "showCalender()"
      ],
      "metadata": {
        "colab": {
          "base_uri": "https://localhost:8080/"
        },
        "id": "FBID1PZKkhg8",
        "outputId": "832ae2e6-ca82-43ef-c12c-9d23a2b2185e"
      },
      "execution_count": 5,
      "outputs": [
        {
          "output_type": "stream",
          "name": "stdout",
          "text": [
            "Enter calender year: 2023\n",
            "                                  2023\n",
            "\n",
            "      January                   February                   March\n",
            "Mo Tu We Th Fr Sa Su      Mo Tu We Th Fr Sa Su      Mo Tu We Th Fr Sa Su\n",
            "                   1             1  2  3  4  5             1  2  3  4  5\n",
            " 2  3  4  5  6  7  8       6  7  8  9 10 11 12       6  7  8  9 10 11 12\n",
            " 9 10 11 12 13 14 15      13 14 15 16 17 18 19      13 14 15 16 17 18 19\n",
            "16 17 18 19 20 21 22      20 21 22 23 24 25 26      20 21 22 23 24 25 26\n",
            "23 24 25 26 27 28 29      27 28                     27 28 29 30 31\n",
            "30 31\n",
            "\n",
            "       April                      May                       June\n",
            "Mo Tu We Th Fr Sa Su      Mo Tu We Th Fr Sa Su      Mo Tu We Th Fr Sa Su\n",
            "                1  2       1  2  3  4  5  6  7                1  2  3  4\n",
            " 3  4  5  6  7  8  9       8  9 10 11 12 13 14       5  6  7  8  9 10 11\n",
            "10 11 12 13 14 15 16      15 16 17 18 19 20 21      12 13 14 15 16 17 18\n",
            "17 18 19 20 21 22 23      22 23 24 25 26 27 28      19 20 21 22 23 24 25\n",
            "24 25 26 27 28 29 30      29 30 31                  26 27 28 29 30\n",
            "\n",
            "        July                     August                  September\n",
            "Mo Tu We Th Fr Sa Su      Mo Tu We Th Fr Sa Su      Mo Tu We Th Fr Sa Su\n",
            "                1  2          1  2  3  4  5  6                   1  2  3\n",
            " 3  4  5  6  7  8  9       7  8  9 10 11 12 13       4  5  6  7  8  9 10\n",
            "10 11 12 13 14 15 16      14 15 16 17 18 19 20      11 12 13 14 15 16 17\n",
            "17 18 19 20 21 22 23      21 22 23 24 25 26 27      18 19 20 21 22 23 24\n",
            "24 25 26 27 28 29 30      28 29 30 31               25 26 27 28 29 30\n",
            "31\n",
            "\n",
            "      October                   November                  December\n",
            "Mo Tu We Th Fr Sa Su      Mo Tu We Th Fr Sa Su      Mo Tu We Th Fr Sa Su\n",
            "                   1             1  2  3  4  5                   1  2  3\n",
            " 2  3  4  5  6  7  8       6  7  8  9 10 11 12       4  5  6  7  8  9 10\n",
            " 9 10 11 12 13 14 15      13 14 15 16 17 18 19      11 12 13 14 15 16 17\n",
            "16 17 18 19 20 21 22      20 21 22 23 24 25 26      18 19 20 21 22 23 24\n",
            "23 24 25 26 27 28 29      27 28 29 30               25 26 27 28 29 30 31\n",
            "30 31\n",
            "\n"
          ]
        }
      ]
    },
    {
      "cell_type": "code",
      "source": [
        "#4.Write a Python program to solve quadartic equation ?"
      ],
      "metadata": {
        "id": "tIwhx0TIkj4s"
      },
      "execution_count": null,
      "outputs": []
    },
    {
      "cell_type": "code",
      "source": [
        "import cmath\n",
        "import math\n",
        "\n",
        "def quadarticEquationRoots(a,b,c):\n",
        "    \n",
        "    discriminant = b*b-4*a*c\n",
        "    \n",
        "    if discriminant == 0:\n",
        "        r1 = -b/2*a\n",
        "        r2 = -b/2*a\n",
        "        print(\"Roots are Real\",r1,r2)\n",
        "    elif discriminant > 0:\n",
        "        r1 = (-b-math.sqrt(discriminant))/(2 * a)\n",
        "        r2 = (-b+math.sqrt(discriminant))/(2 * a)\n",
        "        print(\"Roots are Real and different\",r1,r2)\n",
        "    else:\n",
        "        r1 = (-b-cmath.sqrt(discriminant))/(2 * a)\n",
        "        r2 = (-b+cmath.sqrt(discriminant))/(2 * a)\n",
        "        print(\"Roots are Imaginary\",r1,r2)\n",
        "\n",
        "\n",
        "a = int(input('Enter a value: '))\n",
        "b = int(input('Enter b value: '))\n",
        "c = int(input('Enter c value: '))\n",
        "\n",
        "quadarticEquationRoots(a,b,c)"
      ],
      "metadata": {
        "colab": {
          "base_uri": "https://localhost:8080/"
        },
        "id": "okXuKxp8knRD",
        "outputId": "559b1d92-b242-4487-b611-7f5d725c3b7f"
      },
      "execution_count": 7,
      "outputs": [
        {
          "output_type": "stream",
          "name": "stdout",
          "text": [
            "Enter a value: 1\n",
            "Enter b value: 2\n",
            "Enter c value: 3\n",
            "Roots are Imaginary (-1-1.4142135623730951j) (-1+1.4142135623730951j)\n"
          ]
        }
      ]
    },
    {
      "cell_type": "code",
      "source": [
        "#5.Write a Python program to swap two variables without temp variable ?"
      ],
      "metadata": {
        "id": "mvcnho5TkpFD"
      },
      "execution_count": 3,
      "outputs": []
    },
    {
      "cell_type": "code",
      "source": [
        "num_1 = int(input('Enter first number: '))\n",
        "num_2 = int(input('Enter second number: '))\n",
        "\n",
        "\n",
        "def swapNumbers(num_1,num_2):\n",
        "        print('Before Swapping',num_1,num_2)\n",
        "        num_1 = num_1+num_2\n",
        "        num_2 = num_1-num_2\n",
        "        num_1 = num_1-num_2\n",
        "        print('before Swapping',num_1,num_2)\n",
        "\n",
        "swapNumbers(num_1,num_2)"
      ],
      "metadata": {
        "colab": {
          "base_uri": "https://localhost:8080/"
        },
        "id": "_neLv9U7kq6T",
        "outputId": "bae5a4e1-aaf2-46c3-9c7d-d8190f1ee98b"
      },
      "execution_count": 8,
      "outputs": [
        {
          "output_type": "stream",
          "name": "stdout",
          "text": [
            "Enter first number: 1\n",
            "Enter second number: 23\n",
            "Before Swapping 1 23\n",
            "before Swapping 23 1\n"
          ]
        }
      ]
    },
    {
      "cell_type": "code",
      "source": [],
      "metadata": {
        "id": "ukNIZD_3kwor"
      },
      "execution_count": null,
      "outputs": []
    }
  ]
}